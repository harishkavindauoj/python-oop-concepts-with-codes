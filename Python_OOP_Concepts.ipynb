{
  "nbformat": 4,
  "nbformat_minor": 0,
  "metadata": {
    "colab": {
      "provenance": []
    },
    "kernelspec": {
      "name": "python3",
      "display_name": "Python 3"
    },
    "language_info": {
      "name": "python"
    }
  },
  "cells": [
    {
      "cell_type": "markdown",
      "source": [
        "#  ======================================\n",
        "#  1. CLASSES AND OBJECTS - THE BASICS\n",
        "#  ======================================"
      ],
      "metadata": {
        "id": "dMvHLivpNCPq"
      }
    },
    {
      "cell_type": "code",
      "execution_count": 1,
      "metadata": {
        "colab": {
          "base_uri": "https://localhost:8080/"
        },
        "id": "f2aSX1m-MoAI",
        "outputId": "a407eb7b-4513-4fd1-99c3-4deec2489aca"
      },
      "outputs": [
        {
          "output_type": "stream",
          "name": "stdout",
          "text": [
            "=== 1. Classes and Objects ===\n",
            "Buddy is a 3 year old Golden Retriever\n",
            "Max says Woof!\n",
            "Both dogs are Canis familiaris\n"
          ]
        }
      ],
      "source": [
        "print(\"=== 1. Classes and Objects ===\")\n",
        "\n",
        "# A class is like a blueprint or template\n",
        "class Dog:\n",
        "    \"\"\"A simple Dog class - this is our blueprint\"\"\"\n",
        "\n",
        "    # Class attribute - shared by all dogs\n",
        "    species = \"Canis familiaris\"\n",
        "\n",
        "    # Constructor method - runs when creating a new dog\n",
        "    def __init__(self, name, age, breed):\n",
        "        \"\"\"Initialize a new dog with name, age, and breed\"\"\"\n",
        "        # Instance attributes - unique to each dog\n",
        "        self.name = name\n",
        "        self.age = age\n",
        "        self.breed = breed\n",
        "\n",
        "    # Instance methods - things a dog can do\n",
        "    def bark(self):\n",
        "        \"\"\"Make the dog bark\"\"\"\n",
        "        return f\"{self.name} says Woof!\"\n",
        "\n",
        "    def get_info(self):\n",
        "        \"\"\"Get information about the dog\"\"\"\n",
        "        return f\"{self.name} is a {self.age} year old {self.breed}\"\n",
        "\n",
        "# Creating objects (instances) from the class\n",
        "dog1 = Dog(\"Buddy\", 3, \"Golden Retriever\")\n",
        "dog2 = Dog(\"Max\", 1, \"Poodle\")\n",
        "\n",
        "# Using the objects\n",
        "print(dog1.get_info())\n",
        "print(dog2.bark())\n",
        "print(f\"Both dogs are {Dog.species}\")"
      ]
    },
    {
      "cell_type": "code",
      "source": [
        "print(\"\\n=== 2. Real-World Example: Bank Account ===\")\n",
        "\n",
        "class BankAccount:\n",
        "    \"\"\"A bank account class to demonstrate OOP concepts\"\"\"\n",
        "\n",
        "    # Class attribute - shared by all accounts\n",
        "    bank_name = \"Python Bank\"\n",
        "    interest_rate = 0.02\n",
        "\n",
        "    def __init__(self, account_holder, initial_balance=0):\n",
        "        \"\"\"Create a new bank account\"\"\"\n",
        "        self.account_holder = account_holder\n",
        "        self.balance = initial_balance\n",
        "        self.transaction_history = []\n",
        "        print(f\"Account created for {account_holder} with balance ${initial_balance}\")\n",
        "\n",
        "    def deposit(self, amount):\n",
        "        \"\"\"Add money to the account\"\"\"\n",
        "        if amount > 0:\n",
        "            self.balance += amount\n",
        "            self.transaction_history.append(f\"Deposited ${amount}\")\n",
        "            print(f\"${amount} deposited. New balance: ${self.balance}\")\n",
        "        else:\n",
        "            print(\"Deposit amount must be positive!\")\n",
        "\n",
        "    def withdraw(self, amount):\n",
        "        \"\"\"Remove money from the account\"\"\"\n",
        "        if amount > 0:\n",
        "            if amount <= self.balance:\n",
        "                self.balance -= amount\n",
        "                self.transaction_history.append(f\"Withdrew ${amount}\")\n",
        "                print(f\"${amount} withdrawn. New balance: ${self.balance}\")\n",
        "            else:\n",
        "                print(\"Insufficient funds!\")\n",
        "        else:\n",
        "            print(\"Withdrawal amount must be positive!\")\n",
        "\n",
        "    def get_balance(self):\n",
        "        \"\"\"Get current balance\"\"\"\n",
        "        return self.balance\n",
        "\n",
        "    def get_statement(self):\n",
        "        \"\"\"Print account statement\"\"\"\n",
        "        print(f\"\\n--- Account Statement for {self.account_holder} ---\")\n",
        "        print(f\"Current Balance: ${self.balance}\")\n",
        "        print(\"Recent Transactions:\")\n",
        "        for transaction in self.transaction_history[-5:]:  # Last 5 transactions\n",
        "            print(f\"  - {transaction}\")\n",
        "\n",
        "# Using the BankAccount class\n",
        "account1 = BankAccount(\"Alice Johnson\", 1000)\n",
        "account2 = BankAccount(\"Bob Smith\")\n",
        "\n",
        "# Performing operations\n",
        "account1.deposit(500)\n",
        "account1.withdraw(200)\n",
        "account1.get_statement()\n",
        "\n",
        "account2.deposit(100)\n",
        "account2.withdraw(150)  # This should fail\n",
        "account2.get_statement()\n"
      ],
      "metadata": {
        "colab": {
          "base_uri": "https://localhost:8080/"
        },
        "id": "Z9XXlV24Mt-S",
        "outputId": "5da9b5cf-547f-442d-a1f7-dc69153daf52"
      },
      "execution_count": 2,
      "outputs": [
        {
          "output_type": "stream",
          "name": "stdout",
          "text": [
            "\n",
            "=== 2. Real-World Example: Bank Account ===\n",
            "Account created for Alice Johnson with balance $1000\n",
            "Account created for Bob Smith with balance $0\n",
            "$500 deposited. New balance: $1500\n",
            "$200 withdrawn. New balance: $1300\n",
            "\n",
            "--- Account Statement for Alice Johnson ---\n",
            "Current Balance: $1300\n",
            "Recent Transactions:\n",
            "  - Deposited $500\n",
            "  - Withdrew $200\n",
            "$100 deposited. New balance: $100\n",
            "Insufficient funds!\n",
            "\n",
            "--- Account Statement for Bob Smith ---\n",
            "Current Balance: $100\n",
            "Recent Transactions:\n",
            "  - Deposited $100\n"
          ]
        }
      ]
    },
    {
      "cell_type": "markdown",
      "source": [
        "#  =============================================\n",
        "#  2. INHERITANCE - Creating Specialized Classes\n",
        "#  ============================================="
      ],
      "metadata": {
        "id": "BYg1yfnmNGAX"
      }
    },
    {
      "cell_type": "code",
      "source": [
        "class Vehicle:\n",
        "    \"\"\"Base class for all vehicles\"\"\"\n",
        "\n",
        "    def __init__(self, make, model, year):\n",
        "        self.make = make\n",
        "        self.model = model\n",
        "        self.year = year\n",
        "        self.is_running = False\n",
        "\n",
        "    def start_engine(self):\n",
        "        \"\"\"Start the vehicle\"\"\"\n",
        "        if not self.is_running:\n",
        "            self.is_running = True\n",
        "            return f\"The {self.year} {self.make} {self.model} engine is now running\"\n",
        "        return \"Engine is already running\"\n",
        "\n",
        "    def stop_engine(self):\n",
        "        \"\"\"Stop the vehicle\"\"\"\n",
        "        if self.is_running:\n",
        "            self.is_running = False\n",
        "            return f\"The {self.year} {self.make} {self.model} engine is now off\"\n",
        "        return \"Engine is already off\"\n",
        "\n",
        "    def get_info(self):\n",
        "        \"\"\"Get vehicle information\"\"\"\n",
        "        status = \"running\" if self.is_running else \"stopped\"\n",
        "        return f\"{self.year} {self.make} {self.model} - Engine: {status}\"\n",
        "\n",
        "# Child class (Derived class) - inherits from Vehicle\n",
        "class Car(Vehicle):\n",
        "    \"\"\"Car class that inherits from Vehicle\"\"\"\n",
        "\n",
        "    def __init__(self, make, model, year, doors, fuel_type=\"gasoline\"):\n",
        "        # Call parent constructor\n",
        "        super().__init__(make, model, year)\n",
        "        # Add car-specific attributes\n",
        "        self.doors = doors\n",
        "        self.fuel_type = fuel_type\n",
        "\n",
        "    def honk(self):\n",
        "        \"\"\"Car-specific method\"\"\"\n",
        "        return f\"The {self.make} {self.model} goes BEEP BEEP!\"\n",
        "\n",
        "    # Override parent method to add car-specific info\n",
        "    def get_info(self):\n",
        "        base_info = super().get_info()\n",
        "        return f\"{base_info} - {self.doors} doors, {self.fuel_type} powered\"\n",
        "\n",
        "# Another child class\n",
        "class Motorcycle(Vehicle):\n",
        "    \"\"\"Motorcycle class that inherits from Vehicle\"\"\"\n",
        "\n",
        "    def __init__(self, make, model, year, engine_size):\n",
        "        super().__init__(make, model, year)\n",
        "        self.engine_size = engine_size\n",
        "\n",
        "    def wheelie(self):\n",
        "        \"\"\"Motorcycle-specific method\"\"\"\n",
        "        if self.is_running:\n",
        "            return f\"The {self.make} {self.model} is doing a wheelie!\"\n",
        "        return \"Start the engine first!\"\n",
        "\n",
        "    def get_info(self):\n",
        "        base_info = super().get_info()\n",
        "        return f\"{base_info} - {self.engine_size}cc engine\"\n",
        "\n",
        "# Using inheritance\n",
        "car = Car(\"Toyota\", \"Camry\", 2023, 4, \"hybrid\")\n",
        "motorcycle = Motorcycle(\"Harley-Davidson\", \"Street 750\", 2022, 750)\n",
        "\n",
        "print(car.start_engine())\n",
        "print(car.honk())\n",
        "print(car.get_info())\n",
        "\n",
        "print()\n",
        "print(motorcycle.start_engine())\n",
        "print(motorcycle.wheelie())\n",
        "print(motorcycle.get_info())\n"
      ],
      "metadata": {
        "colab": {
          "base_uri": "https://localhost:8080/"
        },
        "id": "ZTDvCsqjNNxX",
        "outputId": "03700957-bfb9-4f08-8211-0752741508d0"
      },
      "execution_count": 3,
      "outputs": [
        {
          "output_type": "stream",
          "name": "stdout",
          "text": [
            "The 2023 Toyota Camry engine is now running\n",
            "The Toyota Camry goes BEEP BEEP!\n",
            "2023 Toyota Camry - Engine: running - 4 doors, hybrid powered\n",
            "\n",
            "The 2022 Harley-Davidson Street 750 engine is now running\n",
            "The Harley-Davidson Street 750 is doing a wheelie!\n",
            "2022 Harley-Davidson Street 750 - Engine: running - 750cc engine\n"
          ]
        }
      ]
    },
    {
      "cell_type": "markdown",
      "source": [
        "#  =================================================\n",
        "#  4. ENCAPSULATION - Private and Protected Members\n",
        "#  ================================================="
      ],
      "metadata": {
        "id": "uRM3lSa3N2zg"
      }
    },
    {
      "cell_type": "code",
      "source": [
        "class Student:\n",
        "    \"\"\"Demonstrates encapsulation concepts\"\"\"\n",
        "\n",
        "    def __init__(self, name, student_id):\n",
        "        self.name = name                    # Public attribute\n",
        "        self._grade = None                  # Protected attribute (convention: _)\n",
        "        self.__student_id = student_id      # Private attribute (name mangling: __)\n",
        "        self.__grades = []                  # Private list of grades\n",
        "\n",
        "    # Public method\n",
        "    def add_grade(self, grade):\n",
        "        \"\"\"Add a grade (public method)\"\"\"\n",
        "        if 0 <= grade <= 100:\n",
        "            self.__grades.append(grade)\n",
        "            self._calculate_average()\n",
        "        else:\n",
        "            print(\"Grade must be between 0 and 100\")\n",
        "\n",
        "    # Protected method (convention)\n",
        "    def _calculate_average(self):\n",
        "        \"\"\"Calculate average grade (protected method)\"\"\"\n",
        "        if self.__grades:\n",
        "            self._grade = sum(self.__grades) / len(self.__grades)\n",
        "        else:\n",
        "            self._grade = 0\n",
        "\n",
        "    # Private method\n",
        "    def __validate_grade(self, grade):\n",
        "        \"\"\"Validate grade format (private method)\"\"\"\n",
        "        return 0 <= grade <= 100\n",
        "\n",
        "    # Public method to access private data\n",
        "    def get_average(self):\n",
        "        \"\"\"Get student's average grade\"\"\"\n",
        "        return self._grade if self._grade is not None else 0\n",
        "\n",
        "    def get_student_info(self):\n",
        "        \"\"\"Get student information\"\"\"\n",
        "        return f\"Student: {self.name}, ID: {self.__student_id}, Average: {self.get_average():.1f}\"\n",
        "\n",
        "    # Getter and Setter methods (Pythonic way)\n",
        "    @property\n",
        "    def student_id(self):\n",
        "        \"\"\"Getter for student_id\"\"\"\n",
        "        return self.__student_id\n",
        "\n",
        "    @property\n",
        "    def grades(self):\n",
        "        \"\"\"Getter for grades (returns copy)\"\"\"\n",
        "        return self.__grades.copy()\n",
        "\n",
        "# Using encapsulation\n",
        "student = Student(\"Emma Watson\", \"S12345\")\n",
        "student.add_grade(85)\n",
        "student.add_grade(92)\n",
        "student.add_grade(78)\n",
        "\n",
        "print(student.get_student_info())\n",
        "print(f\"Grades: {student.grades}\")\n",
        "\n",
        "# Accessing public attribute\n",
        "print(f\"Student name: {student.name}\")\n",
        "\n",
        "# Accessing protected attribute (possible but not recommended)\n",
        "print(f\"Protected grade: {student._grade}\")\n",
        "\n",
        "# Trying to access private attribute (this would cause an error)\n",
        "# print(student.__student_id)  # AttributeError!\n",
        "\n",
        "# But you can access it through name mangling (not recommended)\n",
        "print(f\"Private ID (name mangled): {student._Student__student_id}\")"
      ],
      "metadata": {
        "colab": {
          "base_uri": "https://localhost:8080/"
        },
        "id": "29L8Cn1fOA0f",
        "outputId": "6bf08283-23ac-4a17-d847-e99b9584dfdf"
      },
      "execution_count": 4,
      "outputs": [
        {
          "output_type": "stream",
          "name": "stdout",
          "text": [
            "Student: Emma Watson, ID: S12345, Average: 85.0\n",
            "Grades: [85, 92, 78]\n",
            "Student name: Emma Watson\n",
            "Protected grade: 85.0\n",
            "Private ID (name mangled): S12345\n"
          ]
        }
      ]
    },
    {
      "cell_type": "markdown",
      "source": [
        "#  =====================================================\n",
        "#  5. POLYMORPHISM - Same Interface, Different Behavior\n",
        "#  ====================================================="
      ],
      "metadata": {
        "id": "CA-wTIA0OGjH"
      }
    },
    {
      "cell_type": "code",
      "source": [
        "class Animal:\n",
        "    \"\"\"Base class for demonstrating polymorphism\"\"\"\n",
        "\n",
        "    def __init__(self, name):\n",
        "        self.name = name\n",
        "\n",
        "    def make_sound(self):\n",
        "        \"\"\"This method will be overridden by child classes\"\"\"\n",
        "        pass\n",
        "\n",
        "    def move(self):\n",
        "        \"\"\"This method will be overridden by child classes\"\"\"\n",
        "        pass\n",
        "\n",
        "class Cat(Animal):\n",
        "    \"\"\"Cat class with specific implementations\"\"\"\n",
        "\n",
        "    def make_sound(self):\n",
        "        return f\"{self.name} says Meow!\"\n",
        "\n",
        "    def move(self):\n",
        "        return f\"{self.name} walks silently\"\n",
        "\n",
        "class Dog(Animal):\n",
        "    \"\"\"Dog class with specific implementations\"\"\"\n",
        "\n",
        "    def make_sound(self):\n",
        "        return f\"{self.name} says Woof!\"\n",
        "\n",
        "    def move(self):\n",
        "        return f\"{self.name} runs energetically\"\n",
        "\n",
        "class Bird(Animal):\n",
        "    \"\"\"Bird class with specific implementations\"\"\"\n",
        "\n",
        "    def make_sound(self):\n",
        "        return f\"{self.name} says Tweet!\"\n",
        "\n",
        "    def move(self):\n",
        "        return f\"{self.name} flies gracefully\"\n",
        "\n",
        "# Polymorphism in action\n",
        "animals = [\n",
        "    Cat(\"Whiskers\"),\n",
        "    Dog(\"Rex\"),\n",
        "    Bird(\"Tweety\"),\n",
        "    Cat(\"Mittens\")\n",
        "]\n",
        "\n",
        "print(\"Polymorphism demonstration:\")\n",
        "for animal in animals:\n",
        "    # Same method call, different behavior based on object type\n",
        "    print(f\"- {animal.make_sound()}\")\n",
        "    print(f\"- {animal.move()}\")\n",
        "\n",
        "# Function that works with any Animal (polymorphism)\n",
        "def animal_show(animal):\n",
        "    \"\"\"Function that works with any Animal object\"\"\"\n",
        "    print(f\"\\nIntroducing {animal.name}:\")\n",
        "    print(f\"  Sound: {animal.make_sound()}\")\n",
        "    print(f\"  Movement: {animal.move()}\")\n",
        "\n",
        "# This function works with any animal type\n",
        "animal_show(Cat(\"Fluffy\"))\n",
        "animal_show(Dog(\"Buddy\"))\n"
      ],
      "metadata": {
        "colab": {
          "base_uri": "https://localhost:8080/"
        },
        "id": "R2Tvh4-cOQiH",
        "outputId": "561dfc36-7d86-4a5e-8ec4-1f0cbf7052a1"
      },
      "execution_count": 5,
      "outputs": [
        {
          "output_type": "stream",
          "name": "stdout",
          "text": [
            "Polymorphism demonstration:\n",
            "- Whiskers says Meow!\n",
            "- Whiskers walks silently\n",
            "- Rex says Woof!\n",
            "- Rex runs energetically\n",
            "- Tweety says Tweet!\n",
            "- Tweety flies gracefully\n",
            "- Mittens says Meow!\n",
            "- Mittens walks silently\n",
            "\n",
            "Introducing Fluffy:\n",
            "  Sound: Fluffy says Meow!\n",
            "  Movement: Fluffy walks silently\n",
            "\n",
            "Introducing Buddy:\n",
            "  Sound: Buddy says Woof!\n",
            "  Movement: Buddy runs energetically\n"
          ]
        }
      ]
    },
    {
      "cell_type": "markdown",
      "source": [
        "#  ====================================\n",
        "#  6. ABSTRACT CLASSES AND METHODS\n",
        "#  ===================================="
      ],
      "metadata": {
        "id": "6_OlJ7WcOU9P"
      }
    },
    {
      "cell_type": "code",
      "source": [
        "from abc import ABC, abstractmethod\n",
        "\n",
        "class Shape(ABC):\n",
        "    \"\"\"Abstract base class for shapes\"\"\"\n",
        "\n",
        "    def __init__(self, name):\n",
        "        self.name = name\n",
        "\n",
        "    @abstractmethod\n",
        "    def calculate_area(self):\n",
        "        \"\"\"Abstract method - must be implemented by child classes\"\"\"\n",
        "        pass\n",
        "\n",
        "    @abstractmethod\n",
        "    def calculate_perimeter(self):\n",
        "        \"\"\"Abstract method - must be implemented by child classes\"\"\"\n",
        "        pass\n",
        "\n",
        "    # Concrete method (can be used as-is by child classes)\n",
        "    def description(self):\n",
        "        \"\"\"Concrete method available to all shapes\"\"\"\n",
        "        return f\"This is a {self.name}\"\n",
        "\n",
        "class Rectangle(Shape):\n",
        "    \"\"\"Rectangle implementation of Shape\"\"\"\n",
        "\n",
        "    def __init__(self, width, height):\n",
        "        super().__init__(\"Rectangle\")\n",
        "        self.width = width\n",
        "        self.height = height\n",
        "\n",
        "    def calculate_area(self):\n",
        "        return self.width * self.height\n",
        "\n",
        "    def calculate_perimeter(self):\n",
        "        return 2 * (self.width + self.height)\n",
        "\n",
        "class Circle(Shape):\n",
        "    \"\"\"Circle implementation of Shape\"\"\"\n",
        "\n",
        "    def __init__(self, radius):\n",
        "        super().__init__(\"Circle\")\n",
        "        self.radius = radius\n",
        "\n",
        "    def calculate_area(self):\n",
        "        return 3.14159 * self.radius ** 2\n",
        "\n",
        "    def calculate_perimeter(self):\n",
        "        return 2 * 3.14159 * self.radius\n",
        "\n",
        "# Using abstract classes\n",
        "shapes = [\n",
        "    Rectangle(5, 3),\n",
        "    Circle(4),\n",
        "    Rectangle(2, 8)\n",
        "]\n",
        "\n",
        "print(\"Abstract classes demonstration:\")\n",
        "for shape in shapes:\n",
        "    print(f\"{shape.description()}\")\n",
        "    print(f\"  Area: {shape.calculate_area():.2f}\")\n",
        "    print(f\"  Perimeter: {shape.calculate_perimeter():.2f}\")\n",
        "\n",
        "# You cannot instantiate abstract class directly\n",
        "# shape = Shape(\"Generic\")  # This would raise TypeError!\n"
      ],
      "metadata": {
        "colab": {
          "base_uri": "https://localhost:8080/"
        },
        "id": "I4YBD-0gOeNX",
        "outputId": "b191cb2c-c9fa-4218-88d4-c0e26aeb8816"
      },
      "execution_count": 6,
      "outputs": [
        {
          "output_type": "stream",
          "name": "stdout",
          "text": [
            "Abstract classes demonstration:\n",
            "This is a Rectangle\n",
            "  Area: 15.00\n",
            "  Perimeter: 16.00\n",
            "This is a Circle\n",
            "  Area: 50.27\n",
            "  Perimeter: 25.13\n",
            "This is a Rectangle\n",
            "  Area: 16.00\n",
            "  Perimeter: 20.00\n"
          ]
        }
      ]
    },
    {
      "cell_type": "markdown",
      "source": [
        "#  ========================================\n",
        "#  7. CLASS METHODS AND STATIC METHODS\n",
        "#  ========================================"
      ],
      "metadata": {
        "id": "c7Hli2NrOiZH"
      }
    },
    {
      "cell_type": "code",
      "source": [
        "class MathUtils:\n",
        "    \"\"\"Utility class demonstrating different types of methods\"\"\"\n",
        "\n",
        "    pi = 3.14159  # Class attribute\n",
        "\n",
        "    def __init__(self, name):\n",
        "        self.name = name  # Instance attribute\n",
        "\n",
        "    # Instance method - works with instance data\n",
        "    def introduce(self):\n",
        "        return f\"I am {self.name}, a math utility instance\"\n",
        "\n",
        "    # Class method - works with class data, can be called on class or instance\n",
        "    @classmethod\n",
        "    def circle_area(cls, radius):\n",
        "        \"\"\"Calculate circle area using class attribute pi\"\"\"\n",
        "        return cls.pi * radius ** 2\n",
        "\n",
        "    @classmethod\n",
        "    def create_calculator(cls, name=\"Calculator\"):\n",
        "        \"\"\"Alternative constructor (factory method)\"\"\"\n",
        "        return cls(name)\n",
        "\n",
        "    # Static method - independent function, logically related to class\n",
        "    @staticmethod\n",
        "    def add_numbers(a, b):\n",
        "        \"\"\"Add two numbers - doesn't need class or instance data\"\"\"\n",
        "        return a + b\n",
        "\n",
        "    @staticmethod\n",
        "    def is_even(number):\n",
        "        \"\"\"Check if number is even\"\"\"\n",
        "        return number % 2 == 0\n",
        "\n",
        "# Using different types of methods\n",
        "print(\"Different types of methods:\")\n",
        "\n",
        "# Instance method\n",
        "calc = MathUtils(\"MyCalculator\")\n",
        "print(calc.introduce())\n",
        "\n",
        "# Class method - can be called on class or instance\n",
        "print(f\"Circle area: {MathUtils.circle_area(5)}\")\n",
        "print(f\"Circle area: {calc.circle_area(3)}\")\n",
        "\n",
        "# Static method - can be called on class or instance\n",
        "print(f\"5 + 3 = {MathUtils.add_numbers(5, 3)}\")\n",
        "print(f\"Is 4 even? {MathUtils.is_even(4)}\")\n",
        "\n",
        "# Factory method (class method as alternative constructor)\n",
        "new_calc = MathUtils.create_calculator(\"Advanced Calculator\")\n",
        "print(new_calc.introduce())\n"
      ],
      "metadata": {
        "colab": {
          "base_uri": "https://localhost:8080/"
        },
        "id": "3WbslU9bOpLH",
        "outputId": "3af2528a-a9e0-41cc-c015-4b017263152d"
      },
      "execution_count": 7,
      "outputs": [
        {
          "output_type": "stream",
          "name": "stdout",
          "text": [
            "Different types of methods:\n",
            "I am MyCalculator, a math utility instance\n",
            "Circle area: 78.53975\n",
            "Circle area: 28.27431\n",
            "5 + 3 = 8\n",
            "Is 4 even? True\n",
            "I am Advanced Calculator, a math utility instance\n"
          ]
        }
      ]
    },
    {
      "cell_type": "markdown",
      "source": [
        "#  ==============================================\n",
        "#  8. PROPERTIES - PYTHONIC GETTERS AND SETTERS\n",
        "#  =============================================="
      ],
      "metadata": {
        "id": "x1VJ9rWZOtnJ"
      }
    },
    {
      "cell_type": "code",
      "source": [
        "class Temperature:\n",
        "    \"\"\"Temperature class demonstrating properties\"\"\"\n",
        "\n",
        "    def __init__(self, celsius=0):\n",
        "        self._celsius = celsius  # Private attribute\n",
        "\n",
        "    @property\n",
        "    def celsius(self):\n",
        "        \"\"\"Getter for celsius\"\"\"\n",
        "        return self._celsius\n",
        "\n",
        "    @celsius.setter\n",
        "    def celsius(self, value):\n",
        "        \"\"\"Setter for celsius with validation\"\"\"\n",
        "        if value < -273.15:\n",
        "            raise ValueError(\"Temperature cannot be below absolute zero!\")\n",
        "        self._celsius = value\n",
        "\n",
        "    @property\n",
        "    def fahrenheit(self):\n",
        "        \"\"\"Calculated property for fahrenheit\"\"\"\n",
        "        return (self._celsius * 9/5) + 32\n",
        "\n",
        "    @fahrenheit.setter\n",
        "    def fahrenheit(self, value):\n",
        "        \"\"\"Set temperature using fahrenheit\"\"\"\n",
        "        celsius_value = (value - 32) * 5/9\n",
        "        self.celsius = celsius_value  # Use celsius setter for validation\n",
        "\n",
        "    @property\n",
        "    def kelvin(self):\n",
        "        \"\"\"Calculated property for kelvin\"\"\"\n",
        "        return self._celsius + 273.15\n",
        "\n",
        "    def __str__(self):\n",
        "        \"\"\"String representation\"\"\"\n",
        "        return f\"{self._celsius}°C ({self.fahrenheit:.1f}°F, {self.kelvin:.1f}K)\"\n",
        "\n",
        "# Using properties\n",
        "temp = Temperature(25)\n",
        "print(f\"Initial temperature: {temp}\")\n",
        "\n",
        "# Using property setters\n",
        "temp.celsius = 0\n",
        "print(f\"Water freezing point: {temp}\")\n",
        "\n",
        "temp.fahrenheit = 212\n",
        "print(f\"Water boiling point: {temp}\")\n",
        "\n",
        "# Property validation\n",
        "try:\n",
        "    temp.celsius = -300  # This should raise an error\n",
        "except ValueError as e:\n",
        "    print(f\"Error: {e}\")"
      ],
      "metadata": {
        "colab": {
          "base_uri": "https://localhost:8080/"
        },
        "id": "FMyeuXlZOzpf",
        "outputId": "af718ea7-8ad6-4160-fcb7-6528153ee295"
      },
      "execution_count": 8,
      "outputs": [
        {
          "output_type": "stream",
          "name": "stdout",
          "text": [
            "Initial temperature: 25°C (77.0°F, 298.1K)\n",
            "Water freezing point: 0°C (32.0°F, 273.1K)\n",
            "Water boiling point: 100.0°C (212.0°F, 373.1K)\n",
            "Error: Temperature cannot be below absolute zero!\n"
          ]
        }
      ]
    },
    {
      "cell_type": "markdown",
      "source": [
        "#====================================\n",
        "#9. MAGIC METHODS (DUNDER METHODS)\n",
        "#===================================="
      ],
      "metadata": {
        "id": "vNfMPf-SO3MX"
      }
    },
    {
      "cell_type": "code",
      "source": [
        "class Vector:\n",
        "    \"\"\"Vector class demonstrating magic methods\"\"\"\n",
        "\n",
        "    def __init__(self, x, y):\n",
        "        self.x = x\n",
        "        self.y = y\n",
        "\n",
        "    def __str__(self):\n",
        "        \"\"\"String representation for end users\"\"\"\n",
        "        return f\"Vector({self.x}, {self.y})\"\n",
        "\n",
        "    def __repr__(self):\n",
        "        \"\"\"String representation for developers\"\"\"\n",
        "        return f\"Vector(x={self.x}, y={self.y})\"\n",
        "\n",
        "    def __add__(self, other):\n",
        "        \"\"\"Addition operator +\"\"\"\n",
        "        if isinstance(other, Vector):\n",
        "            return Vector(self.x + other.x, self.y + other.y)\n",
        "        return NotImplemented\n",
        "\n",
        "    def __sub__(self, other):\n",
        "        \"\"\"Subtraction operator -\"\"\"\n",
        "        if isinstance(other, Vector):\n",
        "            return Vector(self.x - other.x, self.y - other.y)\n",
        "        return NotImplemented\n",
        "\n",
        "    def __mul__(self, scalar):\n",
        "        \"\"\"Multiplication by scalar *\"\"\"\n",
        "        if isinstance(scalar, (int, float)):\n",
        "            return Vector(self.x * scalar, self.y * scalar)\n",
        "        return NotImplemented\n",
        "\n",
        "    def __eq__(self, other):\n",
        "        \"\"\"Equality operator ==\"\"\"\n",
        "        if isinstance(other, Vector):\n",
        "            return self.x == other.x and self.y == other.y\n",
        "        return False\n",
        "\n",
        "    def __len__(self):\n",
        "        \"\"\"Length of vector (magnitude)\"\"\"\n",
        "        return int((self.x ** 2 + self.y ** 2) ** 0.5)\n",
        "\n",
        "    def __getitem__(self, index):\n",
        "        \"\"\"Allow indexing like a list\"\"\"\n",
        "        if index == 0:\n",
        "            return self.x\n",
        "        elif index == 1:\n",
        "            return self.y\n",
        "        else:\n",
        "            raise IndexError(\"Vector index out of range\")\n",
        "\n",
        "# Using magic methods\n",
        "v1 = Vector(3, 4)\n",
        "v2 = Vector(1, 2)\n",
        "\n",
        "print(\"Magic methods demonstration:\")\n",
        "print(f\"v1 = {v1}\")\n",
        "print(f\"v2 = {v2}\")\n",
        "print(f\"v1 + v2 = {v1 + v2}\")\n",
        "print(f\"v1 - v2 = {v1 - v2}\")\n",
        "print(f\"v1 * 2 = {v1 * 2}\")\n",
        "print(f\"v1 == v2: {v1 == v2}\")\n",
        "print(f\"Length of v1: {len(v1)}\")\n",
        "print(f\"v1[0] = {v1[0]}, v1[1] = {v1[1]}\")"
      ],
      "metadata": {
        "colab": {
          "base_uri": "https://localhost:8080/"
        },
        "id": "1kUW3mBrO-cg",
        "outputId": "368c7459-8ce8-46ba-c8da-d278701a3ae1"
      },
      "execution_count": 9,
      "outputs": [
        {
          "output_type": "stream",
          "name": "stdout",
          "text": [
            "Magic methods demonstration:\n",
            "v1 = Vector(3, 4)\n",
            "v2 = Vector(1, 2)\n",
            "v1 + v2 = Vector(4, 6)\n",
            "v1 - v2 = Vector(2, 2)\n",
            "v1 * 2 = Vector(6, 8)\n",
            "v1 == v2: False\n",
            "Length of v1: 5\n",
            "v1[0] = 3, v1[1] = 4\n"
          ]
        }
      ]
    },
    {
      "cell_type": "markdown",
      "source": [
        "#  ==================================\n",
        "#  10. COMPOSITION AND AGGREGATION\n",
        "#  =================================="
      ],
      "metadata": {
        "id": "DUHHvGB2PFi4"
      }
    },
    {
      "cell_type": "code",
      "source": [
        "class Engine:\n",
        "    \"\"\"Engine class for composition example\"\"\"\n",
        "\n",
        "    def __init__(self, horsepower, fuel_type):\n",
        "        self.horsepower = horsepower\n",
        "        self.fuel_type = fuel_type\n",
        "        self.is_running = False\n",
        "\n",
        "    def start(self):\n",
        "        self.is_running = True\n",
        "        return f\"Engine started: {self.horsepower}HP {self.fuel_type} engine\"\n",
        "\n",
        "    def stop(self):\n",
        "        self.is_running = False\n",
        "        return \"Engine stopped\"\n",
        "\n",
        "class GPS:\n",
        "    \"\"\"GPS class for composition example\"\"\"\n",
        "\n",
        "    def __init__(self):\n",
        "        self.current_location = \"Unknown\"\n",
        "\n",
        "    def get_directions(self, destination):\n",
        "        return f\"Directions to {destination} from {self.current_location}\"\n",
        "\n",
        "class CarWithComposition:\n",
        "    \"\"\"Car class demonstrating composition\"\"\"\n",
        "\n",
        "    def __init__(self, make, model, horsepower, fuel_type):\n",
        "        self.make = make\n",
        "        self.model = model\n",
        "        # Composition - Car HAS-A Engine (engine is part of car)\n",
        "        self.engine = Engine(horsepower, fuel_type)\n",
        "        self.gps = GPS()\n",
        "\n",
        "    def start_car(self):\n",
        "        return f\"{self.make} {self.model}: {self.engine.start()}\"\n",
        "\n",
        "    def navigate_to(self, destination):\n",
        "        return f\"{self.make} {self.model}: {self.gps.get_directions(destination)}\"\n",
        "\n",
        "# Using composition\n",
        "my_car = CarWithComposition(\"Honda\", \"Civic\", 180, \"gasoline\")\n",
        "print(my_car.start_car())\n",
        "print(my_car.navigate_to(\"Downtown\"))\n"
      ],
      "metadata": {
        "colab": {
          "base_uri": "https://localhost:8080/"
        },
        "id": "mJ_kGLiyPP8X",
        "outputId": "17d6e470-2f2f-4d8a-e48e-0d10862c7092"
      },
      "execution_count": 10,
      "outputs": [
        {
          "output_type": "stream",
          "name": "stdout",
          "text": [
            "Honda Civic: Engine started: 180HP gasoline engine\n",
            "Honda Civic: Directions to Downtown from Unknown\n"
          ]
        }
      ]
    },
    {
      "cell_type": "markdown",
      "source": [
        "# ========================\n",
        "# OOP PRINCIPLES SUMMARY\n",
        "# ========================\n"
      ],
      "metadata": {
        "id": "oNqsomjgPSCu"
      }
    },
    {
      "cell_type": "markdown",
      "source": [
        "# Object-Oriented Programming (OOP) Concepts\n",
        "\n",
        "## 1. **Encapsulation**\n",
        "- Bundle data and methods together, hide internal details.\n",
        "- Use private attributes (`__attribute`) and public methods.\n",
        "- Control access through getters/setters or properties.\n",
        "\n",
        "## 2. **Inheritance**\n",
        "- Create new classes based on existing ones.\n",
        "- Child classes inherit attributes and methods from parent.\n",
        "- Override methods to provide specific behavior.\n",
        "- Use `super()` to call parent methods.\n",
        "\n",
        "## 3. **Polymorphism**\n",
        "- Same interface, different implementations.\n",
        "- Different classes can implement the same method differently.\n",
        "- Code can work with objects of different types uniformly.\n",
        "\n",
        "## 4. **Abstraction**\n",
        "- Hide complex implementation details.\n",
        "- Use abstract classes to define interfaces.\n",
        "- Focus on *what* an object does, not *how* it does it.\n",
        "\n",
        "---\n",
        "\n",
        "## ✅ Benefits of OOP\n",
        "- **Code reusability** (inheritance, composition)\n",
        "- **Modularity** (separate concerns into classes)\n",
        "- **Maintainability** (changes isolated to specific classes)\n",
        "- **Flexibility** (polymorphism allows easy extension)\n",
        "- **Real-world modeling** (objects mirror real entities)\n"
      ],
      "metadata": {
        "id": "2_Bnj2YkPuqv"
      }
    }
  ]
}